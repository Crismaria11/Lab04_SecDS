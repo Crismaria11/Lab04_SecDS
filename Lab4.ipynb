{
 "cells": [
  {
   "cell_type": "markdown",
   "id": "b5c1a1d6",
   "metadata": {},
   "source": [
    "# Laboratorio # 4\n",
    "Cristina Bautista - 161260\n",
    "\n",
    "Abril Palencia - 18198 "
   ]
  },
  {
   "cell_type": "code",
   "execution_count": 1,
   "id": "090c8369",
   "metadata": {},
   "outputs": [],
   "source": [
    "import pandas as pd\n",
    "import numpy as np\n",
    "import matplotlib.pyplot as plt\n",
    "import seaborn as sns\n",
    "import re\n",
    "\n",
    "%matplotlib inline"
   ]
  },
  {
   "cell_type": "code",
   "execution_count": 2,
   "id": "127ff153",
   "metadata": {},
   "outputs": [],
   "source": [
    "df = pd.read_csv('VirusSample.csv')"
   ]
  },
  {
   "cell_type": "code",
   "execution_count": 3,
   "id": "1ac82fd4",
   "metadata": {},
   "outputs": [
    {
     "data": {
      "text/html": [
       "<div>\n",
       "<style scoped>\n",
       "    .dataframe tbody tr th:only-of-type {\n",
       "        vertical-align: middle;\n",
       "    }\n",
       "\n",
       "    .dataframe tbody tr th {\n",
       "        vertical-align: top;\n",
       "    }\n",
       "\n",
       "    .dataframe thead th {\n",
       "        text-align: right;\n",
       "    }\n",
       "</style>\n",
       "<table border=\"1\" class=\"dataframe\">\n",
       "  <thead>\n",
       "    <tr style=\"text-align: right;\">\n",
       "      <th></th>\n",
       "      <th>file</th>\n",
       "      <th>api</th>\n",
       "      <th>class</th>\n",
       "    </tr>\n",
       "  </thead>\n",
       "  <tbody>\n",
       "    <tr>\n",
       "      <th>0</th>\n",
       "      <td>7ff49f2f0912352416b05c010f35f402cc79feed</td>\n",
       "      <td>IntersectRect,GetCurrentProcess,GetVersion</td>\n",
       "      <td>Virus</td>\n",
       "    </tr>\n",
       "    <tr>\n",
       "      <th>1</th>\n",
       "      <td>50cc6c99ec285d0db45dde07d8fdc18d9098c5b6</td>\n",
       "      <td>GetCaretBlinkTime,CountClipboardFormats,GetCon...</td>\n",
       "      <td>Virus</td>\n",
       "    </tr>\n",
       "    <tr>\n",
       "      <th>2</th>\n",
       "      <td>f77c6bd4aebacd1a01d02e0cb20642ebf2d32929</td>\n",
       "      <td>VarR8Pow,GetClipboardViewer,GetInputDesktop,Ge...</td>\n",
       "      <td>Virus</td>\n",
       "    </tr>\n",
       "    <tr>\n",
       "      <th>3</th>\n",
       "      <td>349c367c5b88fbb6cafae5d7109588d7250e16b5</td>\n",
       "      <td>SetTraceCallback,CopyAcceleratorTableW,GetProc...</td>\n",
       "      <td>Virus</td>\n",
       "    </tr>\n",
       "    <tr>\n",
       "      <th>4</th>\n",
       "      <td>021f4aa86b520e1d606ab26699c35546bcd00c27</td>\n",
       "      <td>SHLoadNonloadedIconOverlayIdentifiers,VarUI8Fr...</td>\n",
       "      <td>Virus</td>\n",
       "    </tr>\n",
       "    <tr>\n",
       "      <th>...</th>\n",
       "      <td>...</td>\n",
       "      <td>...</td>\n",
       "      <td>...</td>\n",
       "    </tr>\n",
       "    <tr>\n",
       "      <th>9790</th>\n",
       "      <td>3b91b43ad8a25a8e9e52f938473f5bb05fb4d530ff4b22...</td>\n",
       "      <td>NtResetWriteWatch,GetClipboardViewer,GetConsol...</td>\n",
       "      <td>Trojan</td>\n",
       "    </tr>\n",
       "    <tr>\n",
       "      <th>9791</th>\n",
       "      <td>54315d591d2855fc794ba5f61012efdd92b489576e4aa5...</td>\n",
       "      <td>RtlpNtEnumerateSubKey,NtFlushWriteBuffer,ReadC...</td>\n",
       "      <td>Trojan</td>\n",
       "    </tr>\n",
       "    <tr>\n",
       "      <th>9792</th>\n",
       "      <td>dcb7507fa10537d2e3da2ea22ec6346e02a0926ad64d76...</td>\n",
       "      <td>ZwNotifyChangeDirectoryFile,GetCursor,GetConso...</td>\n",
       "      <td>Trojan</td>\n",
       "    </tr>\n",
       "    <tr>\n",
       "      <th>9793</th>\n",
       "      <td>cf441d0a2de25c6207fc782e190ce5302171d5e28ce41b...</td>\n",
       "      <td>ILSaveToStream,OleQueryLinkFromData,VarUdateFr...</td>\n",
       "      <td>Trojan</td>\n",
       "    </tr>\n",
       "    <tr>\n",
       "      <th>9794</th>\n",
       "      <td>be7d4be8e48719257d6040c3e9a1f6f15bc2616ca22276...</td>\n",
       "      <td>SwitchToFiber,GetUserDefaultLCID,GetCurrentThr...</td>\n",
       "      <td>Trojan</td>\n",
       "    </tr>\n",
       "  </tbody>\n",
       "</table>\n",
       "<p>9795 rows × 3 columns</p>\n",
       "</div>"
      ],
      "text/plain": [
       "                                                   file  \\\n",
       "0              7ff49f2f0912352416b05c010f35f402cc79feed   \n",
       "1              50cc6c99ec285d0db45dde07d8fdc18d9098c5b6   \n",
       "2              f77c6bd4aebacd1a01d02e0cb20642ebf2d32929   \n",
       "3              349c367c5b88fbb6cafae5d7109588d7250e16b5   \n",
       "4              021f4aa86b520e1d606ab26699c35546bcd00c27   \n",
       "...                                                 ...   \n",
       "9790  3b91b43ad8a25a8e9e52f938473f5bb05fb4d530ff4b22...   \n",
       "9791  54315d591d2855fc794ba5f61012efdd92b489576e4aa5...   \n",
       "9792  dcb7507fa10537d2e3da2ea22ec6346e02a0926ad64d76...   \n",
       "9793  cf441d0a2de25c6207fc782e190ce5302171d5e28ce41b...   \n",
       "9794  be7d4be8e48719257d6040c3e9a1f6f15bc2616ca22276...   \n",
       "\n",
       "                                                    api   class  \n",
       "0            IntersectRect,GetCurrentProcess,GetVersion   Virus  \n",
       "1     GetCaretBlinkTime,CountClipboardFormats,GetCon...   Virus  \n",
       "2     VarR8Pow,GetClipboardViewer,GetInputDesktop,Ge...   Virus  \n",
       "3     SetTraceCallback,CopyAcceleratorTableW,GetProc...   Virus  \n",
       "4     SHLoadNonloadedIconOverlayIdentifiers,VarUI8Fr...   Virus  \n",
       "...                                                 ...     ...  \n",
       "9790  NtResetWriteWatch,GetClipboardViewer,GetConsol...  Trojan  \n",
       "9791  RtlpNtEnumerateSubKey,NtFlushWriteBuffer,ReadC...  Trojan  \n",
       "9792  ZwNotifyChangeDirectoryFile,GetCursor,GetConso...  Trojan  \n",
       "9793  ILSaveToStream,OleQueryLinkFromData,VarUdateFr...  Trojan  \n",
       "9794  SwitchToFiber,GetUserDefaultLCID,GetCurrentThr...  Trojan  \n",
       "\n",
       "[9795 rows x 3 columns]"
      ]
     },
     "execution_count": 3,
     "metadata": {},
     "output_type": "execute_result"
    }
   ],
   "source": [
    "df"
   ]
  },
  {
   "cell_type": "code",
   "execution_count": 4,
   "id": "d964a93f",
   "metadata": {},
   "outputs": [
    {
     "data": {
      "text/plain": [
       "'7ff49f2f0912352416b05c010f35f402cc79feed'"
      ]
     },
     "execution_count": 4,
     "metadata": {},
     "output_type": "execute_result"
    }
   ],
   "source": [
    "df.file[0]"
   ]
  },
  {
   "cell_type": "code",
   "execution_count": 5,
   "id": "cfe37db8",
   "metadata": {},
   "outputs": [
    {
     "data": {
      "text/plain": [
       "'IntersectRect,GetCurrentProcess,GetVersion'"
      ]
     },
     "execution_count": 5,
     "metadata": {},
     "output_type": "execute_result"
    }
   ],
   "source": [
    "df.api[0]"
   ]
  },
  {
   "cell_type": "code",
   "execution_count": 6,
   "id": "ea44ce8c",
   "metadata": {},
   "outputs": [
    {
     "name": "stdout",
     "output_type": "stream",
     "text": [
      "<class 'pandas.core.frame.DataFrame'>\n",
      "RangeIndex: 9795 entries, 0 to 9794\n",
      "Data columns (total 3 columns):\n",
      " #   Column  Non-Null Count  Dtype \n",
      "---  ------  --------------  ----- \n",
      " 0   file    9795 non-null   object\n",
      " 1   api     9795 non-null   object\n",
      " 2   class   9795 non-null   object\n",
      "dtypes: object(3)\n",
      "memory usage: 229.7+ KB\n"
     ]
    }
   ],
   "source": [
    "df.info()"
   ]
  },
  {
   "cell_type": "code",
   "execution_count": 7,
   "id": "ba792306",
   "metadata": {},
   "outputs": [
    {
     "data": {
      "text/plain": [
       "array(['Adware', 'Agent', 'Backdoor', 'Crypt', 'Downloader', 'Dropper',\n",
       "       'Keylogger', 'Ransomware', 'Riskware', 'Spyware', 'Trojan',\n",
       "       'Virus', 'Worms'], dtype=object)"
      ]
     },
     "execution_count": 7,
     "metadata": {},
     "output_type": "execute_result"
    }
   ],
   "source": [
    "np.unique(df[['class']])"
   ]
  },
  {
   "cell_type": "code",
   "execution_count": 8,
   "id": "c5ed81be",
   "metadata": {},
   "outputs": [
    {
     "data": {
      "text/plain": [
       "Trojan        6153\n",
       "Virus         2367\n",
       "Backdoor       447\n",
       "Worms          441\n",
       "Adware         222\n",
       "Agent          102\n",
       "Downloader      31\n",
       "Spyware         11\n",
       "Ransomware      10\n",
       "Riskware         4\n",
       "Dropper          4\n",
       "Crypt            2\n",
       "Keylogger        1\n",
       "Name: class, dtype: int64"
      ]
     },
     "execution_count": 8,
     "metadata": {},
     "output_type": "execute_result"
    }
   ],
   "source": [
    "df['class'].value_counts()"
   ]
  },
  {
   "cell_type": "code",
   "execution_count": 9,
   "id": "5eaffc68",
   "metadata": {},
   "outputs": [
    {
     "data": {
      "text/plain": [
       "<AxesSubplot:>"
      ]
     },
     "execution_count": 9,
     "metadata": {},
     "output_type": "execute_result"
    },
    {
     "data": {
      "image/png": "[encoded data removed]",
      "text/plain": [
       "<Figure size 432x288 with 1 Axes>"
      ]
     },
     "metadata": {
      "needs_background": "light"
     },
     "output_type": "display_data"
    }
   ],
   "source": [
    "df['class'].value_counts().plot(kind='barh')"
   ]
  },
  {
   "cell_type": "code",
   "execution_count": 10,
   "id": "24afcc99",
   "metadata": {},
   "outputs": [],
   "source": [
    "df['class'].replace({\"Adware\": 0, \"Agent\": 1, \"Backdoor\": 2, \"Crypt\": 3, \"Downloader\": 4, \"Dropper\": 5,\n",
    "                    \"Keylogger\": 6, \"Ransomware\": 7, \"Riskware\": 8, \"Spyware\": 9, \"Trojan\": 10, \"Virus\": 11, \n",
    "                    \"Worms\": 12}, inplace=True)"
   ]
  },
  {
   "cell_type": "code",
   "execution_count": 11,
   "id": "0629a5ca",
   "metadata": {},
   "outputs": [
    {
     "data": {
      "text/plain": [
       "10    6153\n",
       "11    2367\n",
       "2      447\n",
       "12     441\n",
       "0      222\n",
       "1      102\n",
       "4       31\n",
       "9       11\n",
       "7       10\n",
       "8        4\n",
       "5        4\n",
       "3        2\n",
       "6        1\n",
       "Name: class, dtype: int64"
      ]
     },
     "execution_count": 11,
     "metadata": {},
     "output_type": "execute_result"
    }
   ],
   "source": [
    "df['class'].value_counts()"
   ]
  },
  {
   "cell_type": "code",
   "execution_count": 12,
   "id": "f70bad05",
   "metadata": {},
   "outputs": [
    {
     "data": {
      "text/plain": [
       "<AxesSubplot:>"
      ]
     },
     "execution_count": 12,
     "metadata": {},
     "output_type": "execute_result"
    },
    {
     "data": {
      "image/png": "[encoded data removed]",
      "text/plain": [
       "<Figure size 432x288 with 1 Axes>"
      ]
     },
     "metadata": {
      "needs_background": "light"
     },
     "output_type": "display_data"
    }
   ],
   "source": [
    "df['class'].value_counts().plot(kind='barh')"
   ]
  },
  {
   "cell_type": "markdown",
   "id": "84bfabeb",
   "metadata": {},
   "source": [
    "Eliminar las que tienen menos de 100 instancias, pueden crear ruido"
   ]
  },
  {
   "cell_type": "code",
   "execution_count": 13,
   "id": "211cbbf3",
   "metadata": {},
   "outputs": [],
   "source": [
    "# df.drop([8, 5, 3, 6], axis=3, inplace = True)\n",
    "# eliminar = [8, 5, 3, 6]\n",
    "df = df.drop(df.index[df['class'] == 4])\n",
    "df = df.drop(df.index[df['class'] == 9])\n",
    "df = df.drop(df.index[df['class'] == 7])\n",
    "df = df.drop(df.index[df['class'] == 8])\n",
    "df = df.drop(df.index[df['class'] == 5])\n",
    "df = df.drop(df.index[df['class'] == 3])\n",
    "df = df.drop(df.index[df['class'] == 6])"
   ]
  },
  {
   "cell_type": "code",
   "execution_count": 14,
   "id": "bce9c34f",
   "metadata": {},
   "outputs": [
    {
     "name": "stdout",
     "output_type": "stream",
     "text": [
      "<class 'pandas.core.frame.DataFrame'>\n",
      "Int64Index: 9732 entries, 0 to 9794\n",
      "Data columns (total 3 columns):\n",
      " #   Column  Non-Null Count  Dtype \n",
      "---  ------  --------------  ----- \n",
      " 0   file    9732 non-null   object\n",
      " 1   api     9732 non-null   object\n",
      " 2   class   9732 non-null   int64 \n",
      "dtypes: int64(1), object(2)\n",
      "memory usage: 304.1+ KB\n"
     ]
    }
   ],
   "source": [
    "df.info()"
   ]
  },
  {
   "cell_type": "code",
   "execution_count": 15,
   "id": "faac46f3",
   "metadata": {},
   "outputs": [
    {
     "data": {
      "text/plain": [
       "10    6153\n",
       "11    2367\n",
       "2      447\n",
       "12     441\n",
       "0      222\n",
       "1      102\n",
       "Name: class, dtype: int64"
      ]
     },
     "execution_count": 15,
     "metadata": {},
     "output_type": "execute_result"
    }
   ],
   "source": [
    "df['class'].value_counts()"
   ]
  },
  {
   "cell_type": "code",
   "execution_count": 16,
   "id": "05d5238f",
   "metadata": {},
   "outputs": [
    {
     "data": {
      "text/plain": [
       "<AxesSubplot:>"
      ]
     },
     "execution_count": 16,
     "metadata": {},
     "output_type": "execute_result"
    },
    {
     "data": {
      "image/png": "[encoded data removed]",
      "text/plain": [
       "<Figure size 432x288 with 1 Axes>"
      ]
     },
     "metadata": {
      "needs_background": "light"
     },
     "output_type": "display_data"
    }
   ],
   "source": [
    "df['class'].value_counts().plot(kind='barh')"
   ]
  },
  {
   "cell_type": "code",
   "execution_count": 17,
   "id": "5444427a",
   "metadata": {},
   "outputs": [],
   "source": [
    "from sklearn.preprocessing import LabelEncoder\n",
    "le = LabelEncoder()\n",
    "df['class'] = le.fit_transform(df['class'])"
   ]
  },
  {
   "cell_type": "code",
   "execution_count": 18,
   "id": "1e7f3821",
   "metadata": {},
   "outputs": [
    {
     "data": {
      "text/html": [
       "<div>\n",
       "<style scoped>\n",
       "    .dataframe tbody tr th:only-of-type {\n",
       "        vertical-align: middle;\n",
       "    }\n",
       "\n",
       "    .dataframe tbody tr th {\n",
       "        vertical-align: top;\n",
       "    }\n",
       "\n",
       "    .dataframe thead th {\n",
       "        text-align: right;\n",
       "    }\n",
       "</style>\n",
       "<table border=\"1\" class=\"dataframe\">\n",
       "  <thead>\n",
       "    <tr style=\"text-align: right;\">\n",
       "      <th></th>\n",
       "      <th>file</th>\n",
       "      <th>api</th>\n",
       "      <th>class</th>\n",
       "    </tr>\n",
       "  </thead>\n",
       "  <tbody>\n",
       "    <tr>\n",
       "      <th>0</th>\n",
       "      <td>7ff49f2f0912352416b05c010f35f402cc79feed</td>\n",
       "      <td>IntersectRect,GetCurrentProcess,GetVersion</td>\n",
       "      <td>4</td>\n",
       "    </tr>\n",
       "    <tr>\n",
       "      <th>1</th>\n",
       "      <td>50cc6c99ec285d0db45dde07d8fdc18d9098c5b6</td>\n",
       "      <td>GetCaretBlinkTime,CountClipboardFormats,GetCon...</td>\n",
       "      <td>4</td>\n",
       "    </tr>\n",
       "    <tr>\n",
       "      <th>2</th>\n",
       "      <td>f77c6bd4aebacd1a01d02e0cb20642ebf2d32929</td>\n",
       "      <td>VarR8Pow,GetClipboardViewer,GetInputDesktop,Ge...</td>\n",
       "      <td>4</td>\n",
       "    </tr>\n",
       "    <tr>\n",
       "      <th>3</th>\n",
       "      <td>349c367c5b88fbb6cafae5d7109588d7250e16b5</td>\n",
       "      <td>SetTraceCallback,CopyAcceleratorTableW,GetProc...</td>\n",
       "      <td>4</td>\n",
       "    </tr>\n",
       "    <tr>\n",
       "      <th>4</th>\n",
       "      <td>021f4aa86b520e1d606ab26699c35546bcd00c27</td>\n",
       "      <td>SHLoadNonloadedIconOverlayIdentifiers,VarUI8Fr...</td>\n",
       "      <td>4</td>\n",
       "    </tr>\n",
       "    <tr>\n",
       "      <th>...</th>\n",
       "      <td>...</td>\n",
       "      <td>...</td>\n",
       "      <td>...</td>\n",
       "    </tr>\n",
       "    <tr>\n",
       "      <th>9790</th>\n",
       "      <td>3b91b43ad8a25a8e9e52f938473f5bb05fb4d530ff4b22...</td>\n",
       "      <td>NtResetWriteWatch,GetClipboardViewer,GetConsol...</td>\n",
       "      <td>3</td>\n",
       "    </tr>\n",
       "    <tr>\n",
       "      <th>9791</th>\n",
       "      <td>54315d591d2855fc794ba5f61012efdd92b489576e4aa5...</td>\n",
       "      <td>RtlpNtEnumerateSubKey,NtFlushWriteBuffer,ReadC...</td>\n",
       "      <td>3</td>\n",
       "    </tr>\n",
       "    <tr>\n",
       "      <th>9792</th>\n",
       "      <td>dcb7507fa10537d2e3da2ea22ec6346e02a0926ad64d76...</td>\n",
       "      <td>ZwNotifyChangeDirectoryFile,GetCursor,GetConso...</td>\n",
       "      <td>3</td>\n",
       "    </tr>\n",
       "    <tr>\n",
       "      <th>9793</th>\n",
       "      <td>cf441d0a2de25c6207fc782e190ce5302171d5e28ce41b...</td>\n",
       "      <td>ILSaveToStream,OleQueryLinkFromData,VarUdateFr...</td>\n",
       "      <td>3</td>\n",
       "    </tr>\n",
       "    <tr>\n",
       "      <th>9794</th>\n",
       "      <td>be7d4be8e48719257d6040c3e9a1f6f15bc2616ca22276...</td>\n",
       "      <td>SwitchToFiber,GetUserDefaultLCID,GetCurrentThr...</td>\n",
       "      <td>3</td>\n",
       "    </tr>\n",
       "  </tbody>\n",
       "</table>\n",
       "<p>9732 rows × 3 columns</p>\n",
       "</div>"
      ],
      "text/plain": [
       "                                                   file  \\\n",
       "0              7ff49f2f0912352416b05c010f35f402cc79feed   \n",
       "1              50cc6c99ec285d0db45dde07d8fdc18d9098c5b6   \n",
       "2              f77c6bd4aebacd1a01d02e0cb20642ebf2d32929   \n",
       "3              349c367c5b88fbb6cafae5d7109588d7250e16b5   \n",
       "4              021f4aa86b520e1d606ab26699c35546bcd00c27   \n",
       "...                                                 ...   \n",
       "9790  3b91b43ad8a25a8e9e52f938473f5bb05fb4d530ff4b22...   \n",
       "9791  54315d591d2855fc794ba5f61012efdd92b489576e4aa5...   \n",
       "9792  dcb7507fa10537d2e3da2ea22ec6346e02a0926ad64d76...   \n",
       "9793  cf441d0a2de25c6207fc782e190ce5302171d5e28ce41b...   \n",
       "9794  be7d4be8e48719257d6040c3e9a1f6f15bc2616ca22276...   \n",
       "\n",
       "                                                    api  class  \n",
       "0            IntersectRect,GetCurrentProcess,GetVersion      4  \n",
       "1     GetCaretBlinkTime,CountClipboardFormats,GetCon...      4  \n",
       "2     VarR8Pow,GetClipboardViewer,GetInputDesktop,Ge...      4  \n",
       "3     SetTraceCallback,CopyAcceleratorTableW,GetProc...      4  \n",
       "4     SHLoadNonloadedIconOverlayIdentifiers,VarUI8Fr...      4  \n",
       "...                                                 ...    ...  \n",
       "9790  NtResetWriteWatch,GetClipboardViewer,GetConsol...      3  \n",
       "9791  RtlpNtEnumerateSubKey,NtFlushWriteBuffer,ReadC...      3  \n",
       "9792  ZwNotifyChangeDirectoryFile,GetCursor,GetConso...      3  \n",
       "9793  ILSaveToStream,OleQueryLinkFromData,VarUdateFr...      3  \n",
       "9794  SwitchToFiber,GetUserDefaultLCID,GetCurrentThr...      3  \n",
       "\n",
       "[9732 rows x 3 columns]"
      ]
     },
     "execution_count": 18,
     "metadata": {},
     "output_type": "execute_result"
    }
   ],
   "source": [
    "df"
   ]
  },
  {
   "cell_type": "code",
   "execution_count": 19,
   "id": "f1855282",
   "metadata": {},
   "outputs": [],
   "source": [
    "df.file = le.fit_transform(df.file)\n",
    "df.api = le.fit_transform(df.api)"
   ]
  },
  {
   "cell_type": "code",
   "execution_count": 20,
   "id": "d094299f",
   "metadata": {},
   "outputs": [
    {
     "data": {
      "text/html": [
       "<div>\n",
       "<style scoped>\n",
       "    .dataframe tbody tr th:only-of-type {\n",
       "        vertical-align: middle;\n",
       "    }\n",
       "\n",
       "    .dataframe tbody tr th {\n",
       "        vertical-align: top;\n",
       "    }\n",
       "\n",
       "    .dataframe thead th {\n",
       "        text-align: right;\n",
       "    }\n",
       "</style>\n",
       "<table border=\"1\" class=\"dataframe\">\n",
       "  <thead>\n",
       "    <tr style=\"text-align: right;\">\n",
       "      <th></th>\n",
       "      <th>file</th>\n",
       "      <th>api</th>\n",
       "      <th>class</th>\n",
       "    </tr>\n",
       "  </thead>\n",
       "  <tbody>\n",
       "    <tr>\n",
       "      <th>0</th>\n",
       "      <td>4887</td>\n",
       "      <td>1240</td>\n",
       "      <td>4</td>\n",
       "    </tr>\n",
       "    <tr>\n",
       "      <th>1</th>\n",
       "      <td>3104</td>\n",
       "      <td>599</td>\n",
       "      <td>4</td>\n",
       "    </tr>\n",
       "    <tr>\n",
       "      <th>2</th>\n",
       "      <td>9414</td>\n",
       "      <td>2501</td>\n",
       "      <td>4</td>\n",
       "    </tr>\n",
       "    <tr>\n",
       "      <th>3</th>\n",
       "      <td>2027</td>\n",
       "      <td>2245</td>\n",
       "      <td>4</td>\n",
       "    </tr>\n",
       "    <tr>\n",
       "      <th>4</th>\n",
       "      <td>83</td>\n",
       "      <td>2127</td>\n",
       "      <td>4</td>\n",
       "    </tr>\n",
       "    <tr>\n",
       "      <th>...</th>\n",
       "      <td>...</td>\n",
       "      <td>...</td>\n",
       "      <td>...</td>\n",
       "    </tr>\n",
       "    <tr>\n",
       "      <th>9790</th>\n",
       "      <td>2242</td>\n",
       "      <td>1611</td>\n",
       "      <td>3</td>\n",
       "    </tr>\n",
       "    <tr>\n",
       "      <th>9791</th>\n",
       "      <td>3233</td>\n",
       "      <td>2059</td>\n",
       "      <td>3</td>\n",
       "    </tr>\n",
       "    <tr>\n",
       "      <th>9792</th>\n",
       "      <td>8390</td>\n",
       "      <td>2708</td>\n",
       "      <td>3</td>\n",
       "    </tr>\n",
       "    <tr>\n",
       "      <th>9793</th>\n",
       "      <td>7864</td>\n",
       "      <td>1209</td>\n",
       "      <td>3</td>\n",
       "    </tr>\n",
       "    <tr>\n",
       "      <th>9794</th>\n",
       "      <td>7221</td>\n",
       "      <td>2299</td>\n",
       "      <td>3</td>\n",
       "    </tr>\n",
       "  </tbody>\n",
       "</table>\n",
       "<p>9732 rows × 3 columns</p>\n",
       "</div>"
      ],
      "text/plain": [
       "      file   api  class\n",
       "0     4887  1240      4\n",
       "1     3104   599      4\n",
       "2     9414  2501      4\n",
       "3     2027  2245      4\n",
       "4       83  2127      4\n",
       "...    ...   ...    ...\n",
       "9790  2242  1611      3\n",
       "9791  3233  2059      3\n",
       "9792  8390  2708      3\n",
       "9793  7864  1209      3\n",
       "9794  7221  2299      3\n",
       "\n",
       "[9732 rows x 3 columns]"
      ]
     },
     "execution_count": 20,
     "metadata": {},
     "output_type": "execute_result"
    }
   ],
   "source": [
    "df"
   ]
  },
  {
   "cell_type": "code",
   "execution_count": 21,
   "id": "128522d1",
   "metadata": {},
   "outputs": [],
   "source": [
    "target = df['class']\n",
    "df_implement = df[['file', 'api']]"
   ]
  },
  {
   "cell_type": "code",
   "execution_count": 22,
   "id": "407ce8cd",
   "metadata": {},
   "outputs": [
    {
     "data": {
      "text/plain": [
       "0       4\n",
       "1       4\n",
       "2       4\n",
       "3       4\n",
       "4       4\n",
       "       ..\n",
       "9790    3\n",
       "9791    3\n",
       "9792    3\n",
       "9793    3\n",
       "9794    3\n",
       "Name: class, Length: 9732, dtype: int64"
      ]
     },
     "execution_count": 22,
     "metadata": {},
     "output_type": "execute_result"
    }
   ],
   "source": [
    "target"
   ]
  },
  {
   "cell_type": "code",
   "execution_count": 23,
   "id": "81f3cb93",
   "metadata": {},
   "outputs": [
    {
     "data": {
      "text/html": [
       "<div>\n",
       "<style scoped>\n",
       "    .dataframe tbody tr th:only-of-type {\n",
       "        vertical-align: middle;\n",
       "    }\n",
       "\n",
       "    .dataframe tbody tr th {\n",
       "        vertical-align: top;\n",
       "    }\n",
       "\n",
       "    .dataframe thead th {\n",
       "        text-align: right;\n",
       "    }\n",
       "</style>\n",
       "<table border=\"1\" class=\"dataframe\">\n",
       "  <thead>\n",
       "    <tr style=\"text-align: right;\">\n",
       "      <th></th>\n",
       "      <th>file</th>\n",
       "      <th>api</th>\n",
       "    </tr>\n",
       "  </thead>\n",
       "  <tbody>\n",
       "    <tr>\n",
       "      <th>0</th>\n",
       "      <td>4887</td>\n",
       "      <td>1240</td>\n",
       "    </tr>\n",
       "    <tr>\n",
       "      <th>1</th>\n",
       "      <td>3104</td>\n",
       "      <td>599</td>\n",
       "    </tr>\n",
       "    <tr>\n",
       "      <th>2</th>\n",
       "      <td>9414</td>\n",
       "      <td>2501</td>\n",
       "    </tr>\n",
       "    <tr>\n",
       "      <th>3</th>\n",
       "      <td>2027</td>\n",
       "      <td>2245</td>\n",
       "    </tr>\n",
       "    <tr>\n",
       "      <th>4</th>\n",
       "      <td>83</td>\n",
       "      <td>2127</td>\n",
       "    </tr>\n",
       "    <tr>\n",
       "      <th>...</th>\n",
       "      <td>...</td>\n",
       "      <td>...</td>\n",
       "    </tr>\n",
       "    <tr>\n",
       "      <th>9790</th>\n",
       "      <td>2242</td>\n",
       "      <td>1611</td>\n",
       "    </tr>\n",
       "    <tr>\n",
       "      <th>9791</th>\n",
       "      <td>3233</td>\n",
       "      <td>2059</td>\n",
       "    </tr>\n",
       "    <tr>\n",
       "      <th>9792</th>\n",
       "      <td>8390</td>\n",
       "      <td>2708</td>\n",
       "    </tr>\n",
       "    <tr>\n",
       "      <th>9793</th>\n",
       "      <td>7864</td>\n",
       "      <td>1209</td>\n",
       "    </tr>\n",
       "    <tr>\n",
       "      <th>9794</th>\n",
       "      <td>7221</td>\n",
       "      <td>2299</td>\n",
       "    </tr>\n",
       "  </tbody>\n",
       "</table>\n",
       "<p>9732 rows × 2 columns</p>\n",
       "</div>"
      ],
      "text/plain": [
       "      file   api\n",
       "0     4887  1240\n",
       "1     3104   599\n",
       "2     9414  2501\n",
       "3     2027  2245\n",
       "4       83  2127\n",
       "...    ...   ...\n",
       "9790  2242  1611\n",
       "9791  3233  2059\n",
       "9792  8390  2708\n",
       "9793  7864  1209\n",
       "9794  7221  2299\n",
       "\n",
       "[9732 rows x 2 columns]"
      ]
     },
     "execution_count": 23,
     "metadata": {},
     "output_type": "execute_result"
    }
   ],
   "source": [
    "df_implement"
   ]
  },
  {
   "cell_type": "code",
   "execution_count": 24,
   "id": "45916b44",
   "metadata": {},
   "outputs": [],
   "source": [
    "from sklearn.preprocessing import MinMaxScaler"
   ]
  },
  {
   "cell_type": "code",
   "execution_count": 25,
   "id": "9bfb63b0",
   "metadata": {},
   "outputs": [],
   "source": [
    "ss = MinMaxScaler()\n",
    "ss.fit(df_implement)\n",
    "df_implement = pd.DataFrame(ss.transform(df_implement))"
   ]
  },
  {
   "cell_type": "code",
   "execution_count": 26,
   "id": "389c478a",
   "metadata": {},
   "outputs": [
    {
     "data": {
      "text/html": [
       "<div>\n",
       "<style scoped>\n",
       "    .dataframe tbody tr th:only-of-type {\n",
       "        vertical-align: middle;\n",
       "    }\n",
       "\n",
       "    .dataframe tbody tr th {\n",
       "        vertical-align: top;\n",
       "    }\n",
       "\n",
       "    .dataframe thead th {\n",
       "        text-align: right;\n",
       "    }\n",
       "</style>\n",
       "<table border=\"1\" class=\"dataframe\">\n",
       "  <thead>\n",
       "    <tr style=\"text-align: right;\">\n",
       "      <th></th>\n",
       "      <th>0</th>\n",
       "      <th>1</th>\n",
       "    </tr>\n",
       "  </thead>\n",
       "  <tbody>\n",
       "    <tr>\n",
       "      <th>0</th>\n",
       "      <td>0.502209</td>\n",
       "      <td>0.421912</td>\n",
       "    </tr>\n",
       "    <tr>\n",
       "      <th>1</th>\n",
       "      <td>0.318981</td>\n",
       "      <td>0.203811</td>\n",
       "    </tr>\n",
       "    <tr>\n",
       "      <th>2</th>\n",
       "      <td>0.967424</td>\n",
       "      <td>0.850970</td>\n",
       "    </tr>\n",
       "    <tr>\n",
       "      <th>3</th>\n",
       "      <td>0.208303</td>\n",
       "      <td>0.763865</td>\n",
       "    </tr>\n",
       "    <tr>\n",
       "      <th>4</th>\n",
       "      <td>0.008529</td>\n",
       "      <td>0.723716</td>\n",
       "    </tr>\n",
       "    <tr>\n",
       "      <th>...</th>\n",
       "      <td>...</td>\n",
       "      <td>...</td>\n",
       "    </tr>\n",
       "    <tr>\n",
       "      <th>9727</th>\n",
       "      <td>0.230398</td>\n",
       "      <td>0.548146</td>\n",
       "    </tr>\n",
       "    <tr>\n",
       "      <th>9728</th>\n",
       "      <td>0.332237</td>\n",
       "      <td>0.700578</td>\n",
       "    </tr>\n",
       "    <tr>\n",
       "      <th>9729</th>\n",
       "      <td>0.862193</td>\n",
       "      <td>0.921402</td>\n",
       "    </tr>\n",
       "    <tr>\n",
       "      <th>9730</th>\n",
       "      <td>0.808139</td>\n",
       "      <td>0.411364</td>\n",
       "    </tr>\n",
       "    <tr>\n",
       "      <th>9731</th>\n",
       "      <td>0.742061</td>\n",
       "      <td>0.782239</td>\n",
       "    </tr>\n",
       "  </tbody>\n",
       "</table>\n",
       "<p>9732 rows × 2 columns</p>\n",
       "</div>"
      ],
      "text/plain": [
       "             0         1\n",
       "0     0.502209  0.421912\n",
       "1     0.318981  0.203811\n",
       "2     0.967424  0.850970\n",
       "3     0.208303  0.763865\n",
       "4     0.008529  0.723716\n",
       "...        ...       ...\n",
       "9727  0.230398  0.548146\n",
       "9728  0.332237  0.700578\n",
       "9729  0.862193  0.921402\n",
       "9730  0.808139  0.411364\n",
       "9731  0.742061  0.782239\n",
       "\n",
       "[9732 rows x 2 columns]"
      ]
     },
     "execution_count": 26,
     "metadata": {},
     "output_type": "execute_result"
    }
   ],
   "source": [
    "df_implement"
   ]
  },
  {
   "cell_type": "code",
   "execution_count": 27,
   "id": "72fdf540",
   "metadata": {},
   "outputs": [],
   "source": [
    "from sklearn.model_selection import train_test_split"
   ]
  },
  {
   "cell_type": "code",
   "execution_count": 28,
   "id": "a82ab43f",
   "metadata": {},
   "outputs": [],
   "source": [
    "x_train, x_test, y_train, y_test = train_test_split(df_implement, target, train_size=0.7, \n",
    "                                                    test_size=0.3, random_state=5)"
   ]
  },
  {
   "cell_type": "code",
   "execution_count": 29,
   "id": "537208e4",
   "metadata": {},
   "outputs": [
    {
     "data": {
      "text/plain": [
       "((6812, 2), (2920, 2))"
      ]
     },
     "execution_count": 29,
     "metadata": {},
     "output_type": "execute_result"
    }
   ],
   "source": [
    "x_train.shape, x_test.shape"
   ]
  },
  {
   "cell_type": "markdown",
   "id": "8b3d511c",
   "metadata": {},
   "source": [
    "## Decision Tree Classifier "
   ]
  },
  {
   "cell_type": "code",
   "execution_count": 30,
   "id": "a2c21f54",
   "metadata": {},
   "outputs": [],
   "source": [
    "from sklearn.tree import DecisionTreeClassifier"
   ]
  },
  {
   "cell_type": "code",
   "execution_count": 31,
   "id": "e2e7c012",
   "metadata": {},
   "outputs": [],
   "source": [
    "decision = DecisionTreeClassifier()\n",
    "decision = decision.fit(x_train, y_train)"
   ]
  },
  {
   "cell_type": "code",
   "execution_count": 34,
   "id": "3fc08e5f",
   "metadata": {},
   "outputs": [],
   "source": [
    "from sklearn.metrics import accuracy_score, confusion_matrix, classification_report"
   ]
  },
  {
   "cell_type": "code",
   "execution_count": 37,
   "id": "82a820df",
   "metadata": {},
   "outputs": [],
   "source": [
    "target_prediction = decision.predict(x_test)"
   ]
  },
  {
   "cell_type": "code",
   "execution_count": 38,
   "id": "c7745a7a",
   "metadata": {},
   "outputs": [
    {
     "data": {
      "text/plain": [
       "0.8794520547945206"
      ]
     },
     "execution_count": 38,
     "metadata": {},
     "output_type": "execute_result"
    }
   ],
   "source": [
    "accuracy_score(y_test, target_prediction)"
   ]
  },
  {
   "cell_type": "code",
   "execution_count": 39,
   "id": "c4c5a39a",
   "metadata": {},
   "outputs": [
    {
     "data": {
      "text/plain": [
       "array([[  52,    0,    0,   11,   14,    2],\n",
       "       [   0,   11,    0,   17,    0,    0],\n",
       "       [   0,    0,  104,   15,    0,    1],\n",
       "       [  12,   25,    9, 1673,   69,   50],\n",
       "       [  11,    3,    0,   69,  634,    7],\n",
       "       [   1,    0,    1,   32,    3,   94]])"
      ]
     },
     "execution_count": 39,
     "metadata": {},
     "output_type": "execute_result"
    }
   ],
   "source": [
    "confusion_matrix(y_test, target_prediction)"
   ]
  },
  {
   "cell_type": "code",
   "execution_count": 42,
   "id": "a8cf8c2d",
   "metadata": {},
   "outputs": [
    {
     "name": "stdout",
     "output_type": "stream",
     "text": [
      "              precision    recall  f1-score   support\n",
      "\n",
      "           0       0.68      0.66      0.67        79\n",
      "           1       0.28      0.39      0.33        28\n",
      "           2       0.91      0.87      0.89       120\n",
      "           3       0.92      0.91      0.92      1838\n",
      "           4       0.88      0.88      0.88       724\n",
      "           5       0.61      0.72      0.66       131\n",
      "\n",
      "    accuracy                           0.88      2920\n",
      "   macro avg       0.72      0.74      0.72      2920\n",
      "weighted avg       0.88      0.88      0.88      2920\n",
      "\n"
     ]
    }
   ],
   "source": [
    "print(classification_report(y_test, target_prediction))"
   ]
  },
  {
   "cell_type": "markdown",
   "id": "20119be5",
   "metadata": {},
   "source": [
    " "
   ]
  },
  {
   "cell_type": "markdown",
   "id": "1be95411",
   "metadata": {},
   "source": [
    "## Naive Bayes "
   ]
  },
  {
   "cell_type": "code",
   "execution_count": 45,
   "id": "6e5f2d80",
   "metadata": {},
   "outputs": [],
   "source": [
    "x_train_bow, x_test_bow, y_train_bow, y_test_bow = train_test_split(df_implement, target, train_size=0.7, \n",
    "                                                                    test_size=0.3, random_state=50)"
   ]
  },
  {
   "cell_type": "code",
   "execution_count": 46,
   "id": "242ea4ab",
   "metadata": {},
   "outputs": [],
   "source": [
    "from sklearn.naive_bayes import MultinomialNB"
   ]
  },
  {
   "cell_type": "code",
   "execution_count": 47,
   "id": "7ed927cd",
   "metadata": {},
   "outputs": [],
   "source": [
    "nb_bow = MultinomialNB()"
   ]
  },
  {
   "cell_type": "code",
   "execution_count": 48,
   "id": "20b45f83",
   "metadata": {},
   "outputs": [
    {
     "data": {
      "text/plain": [
       "MultinomialNB()"
      ]
     },
     "execution_count": 48,
     "metadata": {},
     "output_type": "execute_result"
    }
   ],
   "source": [
    "nb_bow.fit(x_train_bow, y_train_bow)"
   ]
  },
  {
   "cell_type": "code",
   "execution_count": 49,
   "id": "6ad2ed70",
   "metadata": {},
   "outputs": [],
   "source": [
    "pred_bow = nb_bow.predict(x_test_bow)"
   ]
  },
  {
   "cell_type": "code",
   "execution_count": 50,
   "id": "2e368802",
   "metadata": {},
   "outputs": [
    {
     "data": {
      "text/plain": [
       "0.6270547945205479"
      ]
     },
     "execution_count": 50,
     "metadata": {},
     "output_type": "execute_result"
    }
   ],
   "source": [
    "accuracy_score(y_test_bow, pred_bow)"
   ]
  },
  {
   "cell_type": "code",
   "execution_count": 51,
   "id": "ec4cdf4a",
   "metadata": {},
   "outputs": [
    {
     "data": {
      "text/plain": [
       "array([[   0,    0,    0,   63,    0,    0],\n",
       "       [   0,    0,    0,   38,    0,    0],\n",
       "       [   0,    0,    0,  132,    0,    0],\n",
       "       [   0,    0,    0, 1831,    0,    0],\n",
       "       [   0,    0,    0,  718,    0,    0],\n",
       "       [   0,    0,    0,  138,    0,    0]])"
      ]
     },
     "execution_count": 51,
     "metadata": {},
     "output_type": "execute_result"
    }
   ],
   "source": [
    "confusion_matrix(y_test_bow, pred_bow)"
   ]
  },
  {
   "cell_type": "code",
   "execution_count": 53,
   "id": "ec847815",
   "metadata": {},
   "outputs": [
    {
     "name": "stdout",
     "output_type": "stream",
     "text": [
      "              precision    recall  f1-score   support\n",
      "\n",
      "           0       0.00      0.00      0.00        63\n",
      "           1       0.00      0.00      0.00        38\n",
      "           2       0.00      0.00      0.00       132\n",
      "           3       0.63      1.00      0.77      1831\n",
      "           4       0.00      0.00      0.00       718\n",
      "           5       0.00      0.00      0.00       138\n",
      "\n",
      "    accuracy                           0.63      2920\n",
      "   macro avg       0.10      0.17      0.13      2920\n",
      "weighted avg       0.39      0.63      0.48      2920\n",
      "\n"
     ]
    },
    {
     "name": "stderr",
     "output_type": "stream",
     "text": [
      "/Library/Frameworks/Python.framework/Versions/3.9/lib/python3.9/site-packages/sklearn/metrics/_classification.py:1318: UndefinedMetricWarning: Precision and F-score are ill-defined and being set to 0.0 in labels with no predicted samples. Use `zero_division` parameter to control this behavior.\n",
      "  _warn_prf(average, modifier, msg_start, len(result))\n",
      "/Library/Frameworks/Python.framework/Versions/3.9/lib/python3.9/site-packages/sklearn/metrics/_classification.py:1318: UndefinedMetricWarning: Precision and F-score are ill-defined and being set to 0.0 in labels with no predicted samples. Use `zero_division` parameter to control this behavior.\n",
      "  _warn_prf(average, modifier, msg_start, len(result))\n",
      "/Library/Frameworks/Python.framework/Versions/3.9/lib/python3.9/site-packages/sklearn/metrics/_classification.py:1318: UndefinedMetricWarning: Precision and F-score are ill-defined and being set to 0.0 in labels with no predicted samples. Use `zero_division` parameter to control this behavior.\n",
      "  _warn_prf(average, modifier, msg_start, len(result))\n"
     ]
    }
   ],
   "source": [
    "print(classification_report(y_test_bow, pred_bow))"
   ]
  },
  {
   "cell_type": "code",
   "execution_count": 54,
   "id": "bd69688a",
   "metadata": {},
   "outputs": [],
   "source": [
    "from sklearn.model_selection import KFold\n",
    "from sklearn.model_selection import cross_val_score"
   ]
  },
  {
   "cell_type": "code",
   "execution_count": 57,
   "id": "d939b5ed",
   "metadata": {},
   "outputs": [
    {
     "name": "stdout",
     "output_type": "stream",
     "text": [
      "[0.87683284 0.87683284 0.87812041 0.87518355 0.90161527 0.87518355\n",
      " 0.86490455 0.88105727 0.88693098 0.8825257 ]\n",
      "[0.61730205 0.6686217  0.64610866 0.66226138 0.64904552 0.61674009\n",
      " 0.59030837 0.65051395 0.63142438 0.6123348 ]\n"
     ]
    }
   ],
   "source": [
    "cv = KFold(n_splits=10, random_state=1, shuffle=True)\n",
    "\n",
    "print(cross_val_score(decision, x_train, y_train, scoring='accuracy', cv=cv, n_jobs=-1))\n",
    "print(cross_val_score(nb_bow, x_train_bow, y_train_bow, scoring='accuracy', cv=cv, n_jobs=-1))"
   ]
  },
  {
   "cell_type": "code",
   "execution_count": null,
   "id": "6256c18a",
   "metadata": {},
   "outputs": [],
   "source": []
  }
 ],
 "metadata": {
  "kernelspec": {
   "display_name": "Python 3 (ipykernel)",
   "language": "python",
   "name": "python3"
  },
  "language_info": {
   "codemirror_mode": {
    "name": "ipython",
    "version": 3
   },
   "file_extension": ".py",
   "mimetype": "text/x-python",
   "name": "python",
   "nbconvert_exporter": "python",
   "pygments_lexer": "ipython3",
   "version": "3.9.6"
  }
 },
 "nbformat": 4,
 "nbformat_minor": 5
}
